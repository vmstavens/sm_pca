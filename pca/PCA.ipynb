{
 "cells": [
  {
   "cell_type": "markdown",
   "metadata": {},
   "source": [
    "# Exercise 2: PCA (Add random seed to numpy)"
   ]
  },
  {
   "cell_type": "code",
   "execution_count": 18,
   "metadata": {},
   "outputs": [],
   "source": [
    "import numpy as np\n",
    "import pandas as pd\n",
    "import matplotlib.pyplot as plt\n",
    "from sklearn import neighbors\n",
    "from sklearn.decomposition import PCA\n",
    "import time\n",
    "from constants import *\n",
    "import PCA_utils"
   ]
  },
  {
   "cell_type": "code",
   "execution_count": 5,
   "metadata": {},
   "outputs": [],
   "source": [
    "data_csv = pd.read_csv(\"data_proc.csv\")\n",
    "data = pd.DataFrame.to_numpy(data_csv)\n",
    "data = np.delete(data, 0, 1)\n",
    "np.random.shuffle(data)"
   ]
  },
  {
   "cell_type": "markdown",
   "metadata": {},
   "source": [
    "# Exercise 2.1: Principal Component Analysis (PCA)\n",
    "\n",
    "Perform a PCA on the data for the “all persons in” and “disjunct” data set.\n",
    "\n",
    "1. Show the standard deviation ( From prcomp Eigenvalues ), the proportion of variance and the cumulative sum of variance of the principal components. (In the report the first 10-20 principal components, should be sufficient to illustrate the tendencies.)\n",
    "2. Show the performance of selecting enough principal components to represent 80%, 90%, 95%, 99% of the accumulated variance. For each test vary “k” in kNN, try 3 reasonable values.\n",
    "3. Measure run times for the prediction step of the kNN-classifier with PCA based dimensionality reduction. How does the feature vector dimensionality effect performance?\n",
    "4. Interpret the results."
   ]
  },
  {
   "cell_type": "markdown",
   "metadata": {},
   "source": [
    "### <font color='orange'>2.1.1"
   ]
  },
  {
   "cell_type": "code",
   "execution_count": 6,
   "metadata": {},
   "outputs": [
    {
     "data": {
      "text/plain": [
       "PCA()"
      ]
     },
     "execution_count": 6,
     "metadata": {},
     "output_type": "execute_result"
    }
   ],
   "source": [
    "d_train_all, l_train_all, d_test_all, l_test_all = PCA_utils.split_data_all(data, 0.8)\n",
    "d_train_dis, l_train_dis, d_test_dis, l_test_dis = PCA_utils.split_data_disjunct(data, 0.8)\n",
    "\n",
    "pca_all = PCA()\n",
    "pca_all.fit(d_train_all)\n",
    "\n",
    "pca_dis = PCA()\n",
    "pca_dis.fit(d_train_dis)"
   ]
  },
  {
   "cell_type": "code",
   "execution_count": 8,
   "metadata": {},
   "outputs": [],
   "source": [
    "pca_all_varRatio = pca_all.explained_variance_ / np.sum(pca_all.explained_variance_)\n",
    "pca_dis_varRatio = pca_dis.explained_variance_ / np.sum(pca_dis.explained_variance_)\n",
    "\n",
    "pca_all_varRatioCum = np.ndarray(pca_all_varRatio.shape)\n",
    "for i in range(len(pca_all_varRatio)):\n",
    "    if i == 0:\n",
    "        pca_all_varRatioCum[i] = pca_all_varRatio[i]\n",
    "    else:\n",
    "        pca_all_varRatioCum[i] = pca_all_varRatioCum[i-1] + pca_all_varRatio[i]\n",
    "\n",
    "pca_dis_varRatioCum = np.ndarray(pca_dis_varRatio.shape)\n",
    "for i in range(len(pca_dis_varRatio)):\n",
    "    if i == 0:\n",
    "        pca_dis_varRatioCum[i] = pca_dis_varRatio[i]\n",
    "    else:\n",
    "        pca_dis_varRatioCum[i] = pca_dis_varRatioCum[i-1] + pca_dis_varRatio[i]\n",
    "\n"
   ]
  },
  {
   "cell_type": "code",
   "execution_count": 19,
   "metadata": {},
   "outputs": [
    {
     "name": "stdout",
     "output_type": "stream",
     "text": [
      "PCA#\t std\t\t Pct\t\t CumVar\t\t CumPct\n",
      "0 \t 367.62 \t 0.14402 \t 135146.81 \t 0.14402\n",
      "1 \t 224.12 \t 0.05353 \t 185378.36 \t 0.19755\n",
      "2 \t 194.33 \t 0.04024 \t 223140.99 \t 0.23779\n",
      "3 \t 175.74 \t 0.03291 \t 254026.52 \t 0.2707\n",
      "4 \t 174.91 \t 0.03260 \t 284618.97 \t 0.3033\n",
      "5 \t 162.49 \t 0.02814 \t 311022.94 \t 0.33144\n",
      "6 \t 150.48 \t 0.02413 \t 333667.36 \t 0.35557\n",
      "7 \t 147.14 \t 0.02307 \t 355316.41 \t 0.37864\n",
      "8 \t 142.09 \t 0.02151 \t 375504.89 \t 0.40015\n",
      "9 \t 140.16 \t 0.02093 \t 395150.08 \t 0.42108\n",
      "10 \t 132.06 \t 0.01859 \t 412590.80 \t 0.43967\n",
      "11 \t 125.89 \t 0.01689 \t 428437.99 \t 0.45656\n",
      "12 \t 124.07 \t 0.01640 \t 443831.21 \t 0.47296\n",
      "13 \t 119.89 \t 0.01532 \t 458204.06 \t 0.48828\n",
      "14 \t 117.34 \t 0.01467 \t 471973.12 \t 0.50295\n",
      "15 \t 113.31 \t 0.01368 \t 484811.37 \t 0.51663\n",
      "16 \t 110.72 \t 0.01306 \t 497069.31 \t 0.52969\n",
      "17 \t 109.58 \t 0.01280 \t 509077.28 \t 0.54249\n",
      "18 \t 108.03 \t 0.01244 \t 520747.64 \t 0.55493\n",
      "19 \t 104.44 \t 0.01162 \t 531654.46 \t 0.56655\n"
     ]
    }
   ],
   "source": [
    "sum = 0\n",
    "print('PCA#\\t std\\t\\t Pct\\t\\t CumVar\\t\\t CumPct')\n",
    "for i in range(NUM_OF_PCA):\n",
    "    sum += pca_all.explained_variance_[i]\n",
    "    print(i, '\\t', \"{:.2f}\".format(np.sqrt(pca_all.explained_variance_[i])), '\\t', \"{:.5f}\".format(pca_all_varRatio[i]), '\\t', \"{:.2f}\".format(sum), '\\t', \"{:.5}\".format(pca_all_varRatioCum[i]))"
   ]
  },
  {
   "cell_type": "code",
   "execution_count": 20,
   "metadata": {},
   "outputs": [
    {
     "data": {
      "image/png": "[encoded data removed]",
      "text/plain": [
       "<Figure size 432x288 with 1 Axes>"
      ]
     },
     "metadata": {
      "needs_background": "light"
     },
     "output_type": "display_data"
    }
   ],
   "source": [
    "plt.plot(range(len(pca_all.explained_variance_)), pca_all_varRatioCum, linewidth=1.0, marker=\".\", markersize=1, label=\"All students\")\n",
    "plt.plot(range(len(pca_dis.explained_variance_)), pca_dis_varRatioCum, linewidth=2.0, marker=\".\", markersize=1, label=\"Split students\")\n",
    "\n",
    "plt.legend()\n",
    "plt.title(\"Cummulative variance ratios\")\n",
    "plt.ylabel(\"Variance %\")\n",
    "plt.xlabel(\"PCA#\")\n",
    "plt.grid(True)\n",
    "plt.show()"
   ]
  },
  {
   "cell_type": "markdown",
   "metadata": {},
   "source": [
    "### <font color='orange'> 2.1.2"
   ]
  },
  {
   "cell_type": "code",
   "execution_count": 21,
   "metadata": {},
   "outputs": [],
   "source": [
    "# Transform data into PCA space\n",
    "\n",
    "d_train_all_pca = pca_all.transform(d_train_all)\n",
    "d_test_all_pca = pca_all.transform(d_test_all)\n",
    "\n",
    "d_train_dis_pca = pca_dis.transform(d_train_dis)\n",
    "d_test_dis_pca = pca_dis.transform(d_test_dis)"
   ]
  },
  {
   "cell_type": "code",
   "execution_count": 11,
   "metadata": {},
   "outputs": [],
   "source": [
    "# ks = [1, 2, 3, 5, 10]\n",
    "# pcts = [0.8, 0.9, 0.95, 0.99]\n",
    "\n",
    "# accuracy_all  = np.ndarray((len(pcts), len(ks)))\n",
    "# comp_time_all = np.ndarray((len(pcts), len(ks)))\n",
    "# print(\"K =\", ks)\n",
    "\n",
    "# print(\"Running for mixed students...\")\n",
    "# for i, pct in enumerate\n",
    "# (pcts):\n",
    "#     # argwhere returns array of indicies where the statement is true. min returns the smallest element i.e. the threshold index\n",
    "#     pct_idx = np.min(np.argwhere(pca_all_varRatioCum > pct))\n",
    "\n",
    "#     print(\"{:.0f}\".format(pct*100), \"%, p =\", pct_idx)\n",
    "#     a, _, _, _, t = PCA_utils.knnParamSearch(d_train_all_pca[:,:pct_idx], l_train_all, \n",
    "#                                             d_test_all_pca[:,:pct_idx], l_test_all, \n",
    "#                                             ks, metrics=['euclidean'])\n",
    "#     accuracy_all[i,:] = np.array(a)\n",
    "#     comp_time_all[i,:] = np.array(t)\n",
    "\n",
    "# print('\\n')\n",
    "\n",
    "# accuracy_dis  = np.ndarray((len(pcts), len(ks)))\n",
    "# comp_time_dis = np.ndarray((len(pcts), len(ks)))\n",
    "\n",
    "# print(\"Running for split students...\")\n",
    "# for i, pct in enumerate(pcts):\n",
    "#     pct_idx = np.min(np.argwhere(pca_dis_varRatioCum > pct))\n",
    "    \n",
    "#     print(\"{:.0f}\".format(pct*100), \"%, p =\", pct_idx, \"...\")\n",
    "#     a, _, _, _, t = PCA_utils.knnParamSearch(d_train_dis_pca[:,:pct_idx], l_train_dis, \n",
    "#                                             d_test_dis_pca[:,:pct_idx], l_test_dis, \n",
    "#                                             ks, metrics=['euclidean'])\n",
    "#     accuracy_dis[i,:] = np.array(a)\n",
    "#     comp_time_dis[i,:] = np.array(t)\n",
    "\n",
    "# print('\\n')"
   ]
  },
  {
   "cell_type": "code",
   "execution_count": 23,
   "metadata": {},
   "outputs": [],
   "source": [
    "accuracy_all = pd.read_csv(\"acc_all.csv\", header=None)\n",
    "accuracy_all = pd.DataFrame.to_numpy(accuracy_all)\n",
    "accuracy_dis = pd.read_csv(\"acc_dis.csv\", header=None)\n",
    "accuracy_dis = pd.DataFrame.to_numpy(accuracy_dis)\n",
    "comp_time_all = pd.read_csv(\"c_time_all.csv\", header=None)\n",
    "comp_time_all = pd.DataFrame.to_numpy(comp_time_all)\n",
    "comp_time_dis = pd.read_csv(\"c_time_dis.csv\", header=None)\n",
    "comp_time_dis = pd.DataFrame.to_numpy(comp_time_dis)"
   ]
  },
  {
   "cell_type": "code",
   "execution_count": 28,
   "metadata": {},
   "outputs": [
    {
     "name": "stdout",
     "output_type": "stream",
     "text": [
      "[0.86689394 0.85856061 0.85598485]\n",
      "\n"
     ]
    },
    {
     "data": {
      "image/png": "[encoded data removed]",
      "text/plain": [
       "<Figure size 432x288 with 4 Axes>"
      ]
     },
     "metadata": {
      "needs_background": "light"
     },
     "output_type": "display_data"
    }
   ],
   "source": [
    "ks = [1, 3, 5]\n",
    "pcts = [0.8, 0.9, 0.95, 0.99]\n",
    "\n",
    "print(accuracy_all[3])\n",
    "print()\n",
    "\n",
    "fig, axs = plt.subplots(2, 2)\n",
    "\n",
    "axs[0,0].plot(ks, accuracy_all[0], linewidth=2.0, marker=\".\", markersize=12,label=\"PCA 80% var\")\n",
    "axs[0,0].plot(ks, accuracy_all[1], linewidth=2.0, marker=\".\", markersize=12,label=\"PCA 90% var\")\n",
    "axs[0,0].plot(ks, accuracy_all[2], linewidth=2.0, marker=\".\", markersize=12,label=\"PCA 95% var\")\n",
    "axs[0,0].plot(ks, accuracy_all[3], linewidth=2.0, marker=\".\", markersize=12,label=\"PCA 99% var\")\n",
    "axs[0,0].set(title=\"Accuracy for mixed student data set\", xlabel=\"K\", ylabel=\"Accuracy\")\n",
    "# ax1.set_title(\"Accuracy for mixed student data set\")\n",
    "# ax1.set_xlabel(\"K\")\n",
    "# ax1.set_ylabel(\"Accuracy\")\n",
    "# ax1.legend()\n",
    "\n",
    "axs[0,1].plot(ks, accuracy_dis[0], linewidth=2.0, marker=\".\", markersize=12,label=\"PCA 80% var\")\n",
    "axs[0,1].plot(ks, accuracy_dis[1], linewidth=2.0, marker=\".\", markersize=12,label=\"PCA 90% var\")\n",
    "axs[0,1].plot(ks, accuracy_dis[2], linewidth=2.0, marker=\".\", markersize=12,label=\"PCA 95% var\")\n",
    "axs[0,1].plot(ks, accuracy_dis[3], linewidth=2.0, marker=\".\", markersize=12,label=\"PCA 99% var\")\n",
    "axs[0,1].set(title=\"Accuracy for disjunct data set\", xlabel=\"K\", ylabel=\"Accuracy\")\n",
    "# ax2.set_title(\"Accuracy for disjunct data set\")\n",
    "# ax2.set_xlabel(\"K\")\n",
    "# ax2.set_ylabel(\"Accuracy\")\n",
    "# ax2.legend()\n",
    "\n",
    "axs[1,0].plot(ks, comp_time_all[0], linewidth=2.0, marker=\".\", markersize=12,label=\"PCA 80% var\")\n",
    "axs[1,0].plot(ks, comp_time_all[1], linewidth=2.0, marker=\".\", markersize=12,label=\"PCA 90% var\")\n",
    "axs[1,0].plot(ks, comp_time_all[2], linewidth=2.0, marker=\".\", markersize=12,label=\"PCA 95% var\")\n",
    "axs[1,0].plot(ks, comp_time_all[3], linewidth=2.0, marker=\".\", markersize=12,label=\"PCA 99% var\")\n",
    "axs[1,0].set(title=\"Computation time for mixed student data set\", xlabel=\"K\", ylabel=\"Computation time [s]\")\n",
    "# ax3.set_title(\"Computation time for mixed student data set\")\n",
    "# ax3.set_xlabel(\"K\")\n",
    "# ax3.set_ylabel(\"Computation time [s]\")\n",
    "# ax3.legend()\n",
    "\n",
    "axs[1,1].plot(ks, comp_time_dis[0], linewidth=2.0, marker=\".\", markersize=12,label=\"PCA 80% var\")\n",
    "axs[1,1].plot(ks, comp_time_dis[1], linewidth=2.0, marker=\".\", markersize=12,label=\"PCA 90% var\")\n",
    "axs[1,1].plot(ks, comp_time_dis[2], linewidth=2.0, marker=\".\", markersize=12,label=\"PCA 95% var\")\n",
    "axs[1,1].plot(ks, comp_time_dis[3], linewidth=2.0, marker=\".\", markersize=12,label=\"PCA 99% var\")\n",
    "axs[1,1].set(title=\"Computation time for disjunct data set\", xlabel=\"K\", ylabel=\"Computation time [s]\")\n",
    "# ax4.set_title(\"Computation time for disjunct data set\")\n",
    "# ax4.set_xlabel(\"K\")\n",
    "# ax4.set_ylabel(\"Computation time [s]\")\n",
    "# ax4.legend()\n",
    "\n",
    "for ax in axs.flat:\n",
    "    ax.label_outer()\n",
    "\n",
    "\n",
    "\n",
    "\n"
   ]
  },
  {
   "cell_type": "markdown",
   "metadata": {},
   "source": [
    "# Exercise 2.2: Normalization\n",
    "\n",
    "1. Perform one of the two normalizations suggested in the lecture (min-max normalization and z-standardization) for the best parameter setting found under 2.1.3 and apply kNN with 10 fold cross-validation (10 runs, 90% training and 10% test set).\n",
    "2. Apply the normalization before and after PCA independently and compare the results. Analyze the results."
   ]
  },
  {
   "cell_type": "markdown",
   "metadata": {},
   "source": [
    "# Exercise 2.3: Preprocessing\n",
    "\n",
    "Apply Gaussian smoothing function with different sigmas to the images. Perform again the steps in task 2.2 (Cross validation). Describe and analyze the results for one of the smoothing methods depending on the amount of smoothing."
   ]
  },
  {
   "cell_type": "markdown",
   "metadata": {},
   "source": [
    "# Exercise 2.4: Reconstruction using PCA\n",
    "\n",
    "1. This task is about reconstructing data using PCA. First select some images from the dataset and plot them.\n",
    "2. Plot the first 10 eigenvectors/loadingvectors as images. Can you describe what you see?\n",
    "3. Plot a reconstruction of the images you displayed in 2.4.1 using all PC’s. This can be done by multiplying the loadings with the scores and adding the removed centering.\n",
    "4. Now re-recreate using 80% of variance, 90% and 95%. Can you describe what you see? How much have you reduced the data size?\n",
    "5. The last exercise is to compare the outcomes between two different ciphers. For instance, two different ciphers, (e.g. datapoints that represent a ’0’ and a ’1’), compare the 10 first scores and see if you can spot a difference. Try also to calculate the mean for all instances of these ciphers and compare the first 10 scores. Can you spot a pattern when comparing with the loadings."
   ]
  },
  {
   "cell_type": "code",
   "execution_count": null,
   "metadata": {},
   "outputs": [],
   "source": []
  }
 ],
 "metadata": {
  "interpreter": {
   "hash": "a48a66b5afb63e63f84112be304a6c1843267407efa77f2c4d22372f459fabb7"
  },
  "kernelspec": {
   "display_name": "Python 3.9.7 64-bit",
   "language": "python",
   "name": "python3"
  },
  "language_info": {
   "codemirror_mode": {
    "name": "ipython",
    "version": 3
   },
   "file_extension": ".py",
   "mimetype": "text/x-python",
   "name": "python",
   "nbconvert_exporter": "python",
   "pygments_lexer": "ipython3",
   "version": "3.8.10"
  },
  "orig_nbformat": 4
 },
 "nbformat": 4,
 "nbformat_minor": 2
}
