{
 "cells": [
  {
   "cell_type": "markdown",
   "metadata": {},
   "source": [
    "# 3.3: Evaluation methods of k-NN\n",
    "\n",
    "### As seen in the hierarchical clustering plot we often get different labels when finding the nearest neighbors of different ciphers. This indicates that we are not completely sure about our estimation. Until now, in k-NN we have simply used the one with most votes. But we can also exclude predictions which does not have enough of the same labels. In k-NN we can set the “l” to the minimum number of “k” nearest neighbors of the strongest label to accept a match."
   ]
  },
  {
   "cell_type": "code",
   "execution_count": 2,
   "metadata": {},
   "outputs": [
    {
     "name": "stdout",
     "output_type": "stream",
     "text": [
      "data.shape \t=  (66000, 531) \n",
      "d_train.shape \t=  (52800, 529) \n",
      "l_train.shape \t=  (52800,) \n",
      "d_test.shape \t=  (13200, 529) \n",
      "l_test.shape \t=  (13200,)\n"
     ]
    }
   ],
   "source": [
    "import numpy as np\n",
    "import matplotlib.pyplot as plt\n",
    "import sys\n",
    "import pandas as pd\n",
    "sys.path.append(\"..\")\n",
    "\n",
    "from knn.knn_algorithm import knnParamSearch\n",
    "from sklearn.cluster import AgglomerativeClustering\n",
    "from sklearn.cluster import KMeans\n",
    "from typing import List\n",
    "from sklearn import neighbors\n",
    "\n",
    "\n",
    "from utils import data_utils\n",
    "from utils import vis_utils\n",
    "\n",
    "data_csv = pd.read_csv(\"../data.csv\", header=None)\n",
    "data = pd.DataFrame.to_numpy(data_csv)\n",
    "\n",
    "np.random.shuffle(data)\n",
    "data = np.delete(data, 0, 1) # remove index numbers \n",
    "data_raw = np.delete(data,np.s_[0:2],axis=1) # contains only raw data, no labels or student id\n",
    "\n",
    "train_pct = 0.8\n",
    "test_pct  = 0.2\n",
    "\n",
    "# Training data from one student\n",
    "d_train = data[:int(train_pct*len(data)), :]\n",
    "l_train = data[:int(train_pct*len(data)), 1]\n",
    "d_train = np.delete(d_train, [0, 1], 1)\n",
    "\n",
    "# Test data from another student\n",
    "d_test = data[int(train_pct*len(data)):, :]\n",
    "l_test = data[int(train_pct*len(data)):, 1]\n",
    "d_test = np.delete(d_test, [0, 1], 1)\n",
    "\n",
    "print(\"data.shape \\t= \", data.shape, \"\\nd_train.shape \\t= \", d_train.shape, \"\\nl_train.shape \\t= \",l_train.shape, \"\\nd_test.shape \\t= \", d_test.shape, \"\\nl_test.shape \\t= \", l_test.shape)"
   ]
  },
  {
   "cell_type": "markdown",
   "metadata": {},
   "source": [
    "\n",
    "### 3.3.1 Plot the precision-recall curves for 1 to 13 “k” with “l” values up to the “k” value. Here, the results should be one plot containing “k” lines, and each one have “k” datapoints."
   ]
  },
  {
   "cell_type": "code",
   "execution_count": 48,
   "metadata": {},
   "outputs": [
    {
     "name": "stdout",
     "output_type": "stream",
     "text": [
      "(100, 1)\n"
     ]
    },
    {
     "ename": "TypeError",
     "evalue": "bincount() missing 1 required positional argument: 'x'",
     "output_type": "error",
     "traceback": [
      "\u001b[0;31m---------------------------------------------------------------------------\u001b[0m",
      "\u001b[0;31mTypeError\u001b[0m                                 Traceback (most recent call last)",
      "\u001b[1;32m/home/vmstaven/git/stat_ml_exercises/clustering/ex3.ipynb Cell 4'\u001b[0m in \u001b[0;36m<cell line: 3>\u001b[0;34m()\u001b[0m\n\u001b[1;32m      <a href='vscode-notebook-cell:/home/vmstaven/git/stat_ml_exercises/clustering/ex3.ipynb#ch0000007?line=0'>1</a>\u001b[0m A \u001b[39m=\u001b[39m np\u001b[39m.\u001b[39mndarray((\u001b[39m100\u001b[39m,\u001b[39m1\u001b[39m))\n\u001b[1;32m      <a href='vscode-notebook-cell:/home/vmstaven/git/stat_ml_exercises/clustering/ex3.ipynb#ch0000007?line=1'>2</a>\u001b[0m \u001b[39mprint\u001b[39m(A\u001b[39m.\u001b[39mshape)\n\u001b[0;32m----> <a href='vscode-notebook-cell:/home/vmstaven/git/stat_ml_exercises/clustering/ex3.ipynb#ch0000007?line=2'>3</a>\u001b[0m most_frequent_element \u001b[39m=\u001b[39m np\u001b[39m.\u001b[39;49mbincount()\u001b[39m.\u001b[39margmax()\n\u001b[1;32m      <a href='vscode-notebook-cell:/home/vmstaven/git/stat_ml_exercises/clustering/ex3.ipynb#ch0000007?line=3'>4</a>\u001b[0m \u001b[39mprint\u001b[39m(most_frequent_element)\n",
      "File \u001b[0;32m<__array_function__ internals>:179\u001b[0m, in \u001b[0;36mbincount\u001b[0;34m(*args, **kwargs)\u001b[0m\n",
      "\u001b[0;31mTypeError\u001b[0m: bincount() missing 1 required positional argument: 'x'"
     ]
    }
   ],
   "source": [
    "A = np.ndarray((100,1))\n",
    "print(A.shape)\n",
    "most_frequent_element = np.bincount().argmax()\n",
    "print(most_frequent_element)\n"
   ]
  },
  {
   "cell_type": "code",
   "execution_count": 77,
   "metadata": {},
   "outputs": [
    {
     "name": "stdout",
     "output_type": "stream",
     "text": [
      "k =  1\n",
      "\tl =  1\n",
      "k =  2\n",
      "\tl =  1\n",
      "\tl =  2\n",
      "k =  3\n",
      "\tl =  1\n",
      "\tl =  2\n",
      "\tl =  3\n",
      "k =  4\n",
      "\tl =  1\n",
      "\tl =  2\n",
      "\tl =  3\n",
      "\tl =  4\n",
      "k =  5\n"
     ]
    },
    {
     "ename": "KeyboardInterrupt",
     "evalue": "",
     "output_type": "error",
     "traceback": [
      "\u001b[0;31m---------------------------------------------------------------------------\u001b[0m",
      "\u001b[0;31mKeyboardInterrupt\u001b[0m                         Traceback (most recent call last)",
      "\u001b[1;32m/home/vmstaven/git/stat_ml_exercises/clustering/ex3.ipynb Cell 5'\u001b[0m in \u001b[0;36m<cell line: 2>\u001b[0;34m()\u001b[0m\n\u001b[1;32m      <a href='vscode-notebook-cell:/home/vmstaven/git/stat_ml_exercises/clustering/ex3.ipynb#ch0000003?line=3'>4</a>\u001b[0m knn \u001b[39m=\u001b[39m neighbors\u001b[39m.\u001b[39mKNeighborsClassifier(k)\n\u001b[1;32m      <a href='vscode-notebook-cell:/home/vmstaven/git/stat_ml_exercises/clustering/ex3.ipynb#ch0000003?line=4'>5</a>\u001b[0m knn\u001b[39m.\u001b[39mfit(d_train,l_train)\n\u001b[0;32m----> <a href='vscode-notebook-cell:/home/vmstaven/git/stat_ml_exercises/clustering/ex3.ipynb#ch0000003?line=5'>6</a>\u001b[0m neigh_dist, neigh_ind \u001b[39m=\u001b[39m knn\u001b[39m.\u001b[39;49mkneighbors(d_test)\n\u001b[1;32m      <a href='vscode-notebook-cell:/home/vmstaven/git/stat_ml_exercises/clustering/ex3.ipynb#ch0000003?line=6'>7</a>\u001b[0m neighbor_labels \u001b[39m=\u001b[39m l_train[neigh_ind]\n\u001b[1;32m     <a href='vscode-notebook-cell:/home/vmstaven/git/stat_ml_exercises/clustering/ex3.ipynb#ch0000003?line=9'>10</a>\u001b[0m \u001b[39mfor\u001b[39;00m l \u001b[39min\u001b[39;00m \u001b[39mrange\u001b[39m(\u001b[39m1\u001b[39m,k \u001b[39m+\u001b[39m \u001b[39m1\u001b[39m):\n",
      "File \u001b[0;32m~/.local/lib/python3.8/site-packages/sklearn/neighbors/_base.py:752\u001b[0m, in \u001b[0;36mKNeighborsMixin.kneighbors\u001b[0;34m(self, X, n_neighbors, return_distance)\u001b[0m\n\u001b[1;32m    <a href='file:///home/vmstaven/.local/lib/python3.8/site-packages/sklearn/neighbors/_base.py?line=748'>749</a>\u001b[0m     \u001b[39melse\u001b[39;00m:\n\u001b[1;32m    <a href='file:///home/vmstaven/.local/lib/python3.8/site-packages/sklearn/neighbors/_base.py?line=749'>750</a>\u001b[0m         kwds \u001b[39m=\u001b[39m \u001b[39mself\u001b[39m\u001b[39m.\u001b[39meffective_metric_params_\n\u001b[0;32m--> <a href='file:///home/vmstaven/.local/lib/python3.8/site-packages/sklearn/neighbors/_base.py?line=751'>752</a>\u001b[0m     chunked_results \u001b[39m=\u001b[39m \u001b[39mlist\u001b[39;49m(\n\u001b[1;32m    <a href='file:///home/vmstaven/.local/lib/python3.8/site-packages/sklearn/neighbors/_base.py?line=752'>753</a>\u001b[0m         pairwise_distances_chunked(\n\u001b[1;32m    <a href='file:///home/vmstaven/.local/lib/python3.8/site-packages/sklearn/neighbors/_base.py?line=753'>754</a>\u001b[0m             X,\n\u001b[1;32m    <a href='file:///home/vmstaven/.local/lib/python3.8/site-packages/sklearn/neighbors/_base.py?line=754'>755</a>\u001b[0m             \u001b[39mself\u001b[39;49m\u001b[39m.\u001b[39;49m_fit_X,\n\u001b[1;32m    <a href='file:///home/vmstaven/.local/lib/python3.8/site-packages/sklearn/neighbors/_base.py?line=755'>756</a>\u001b[0m             reduce_func\u001b[39m=\u001b[39;49mreduce_func,\n\u001b[1;32m    <a href='file:///home/vmstaven/.local/lib/python3.8/site-packages/sklearn/neighbors/_base.py?line=756'>757</a>\u001b[0m             metric\u001b[39m=\u001b[39;49m\u001b[39mself\u001b[39;49m\u001b[39m.\u001b[39;49meffective_metric_,\n\u001b[1;32m    <a href='file:///home/vmstaven/.local/lib/python3.8/site-packages/sklearn/neighbors/_base.py?line=757'>758</a>\u001b[0m             n_jobs\u001b[39m=\u001b[39;49mn_jobs,\n\u001b[1;32m    <a href='file:///home/vmstaven/.local/lib/python3.8/site-packages/sklearn/neighbors/_base.py?line=758'>759</a>\u001b[0m             \u001b[39m*\u001b[39;49m\u001b[39m*\u001b[39;49mkwds,\n\u001b[1;32m    <a href='file:///home/vmstaven/.local/lib/python3.8/site-packages/sklearn/neighbors/_base.py?line=759'>760</a>\u001b[0m         )\n\u001b[1;32m    <a href='file:///home/vmstaven/.local/lib/python3.8/site-packages/sklearn/neighbors/_base.py?line=760'>761</a>\u001b[0m     )\n\u001b[1;32m    <a href='file:///home/vmstaven/.local/lib/python3.8/site-packages/sklearn/neighbors/_base.py?line=762'>763</a>\u001b[0m \u001b[39melif\u001b[39;00m \u001b[39mself\u001b[39m\u001b[39m.\u001b[39m_fit_method \u001b[39min\u001b[39;00m [\u001b[39m\"\u001b[39m\u001b[39mball_tree\u001b[39m\u001b[39m\"\u001b[39m, \u001b[39m\"\u001b[39m\u001b[39mkd_tree\u001b[39m\u001b[39m\"\u001b[39m]:\n\u001b[1;32m    <a href='file:///home/vmstaven/.local/lib/python3.8/site-packages/sklearn/neighbors/_base.py?line=763'>764</a>\u001b[0m     \u001b[39mif\u001b[39;00m issparse(X):\n",
      "File \u001b[0;32m~/.local/lib/python3.8/site-packages/sklearn/metrics/pairwise.py:1726\u001b[0m, in \u001b[0;36mpairwise_distances_chunked\u001b[0;34m(X, Y, reduce_func, metric, n_jobs, working_memory, **kwds)\u001b[0m\n\u001b[1;32m   <a href='file:///home/vmstaven/.local/lib/python3.8/site-packages/sklearn/metrics/pairwise.py?line=1723'>1724</a>\u001b[0m \u001b[39mif\u001b[39;00m reduce_func \u001b[39mis\u001b[39;00m \u001b[39mnot\u001b[39;00m \u001b[39mNone\u001b[39;00m:\n\u001b[1;32m   <a href='file:///home/vmstaven/.local/lib/python3.8/site-packages/sklearn/metrics/pairwise.py?line=1724'>1725</a>\u001b[0m     chunk_size \u001b[39m=\u001b[39m D_chunk\u001b[39m.\u001b[39mshape[\u001b[39m0\u001b[39m]\n\u001b[0;32m-> <a href='file:///home/vmstaven/.local/lib/python3.8/site-packages/sklearn/metrics/pairwise.py?line=1725'>1726</a>\u001b[0m     D_chunk \u001b[39m=\u001b[39m reduce_func(D_chunk, sl\u001b[39m.\u001b[39;49mstart)\n\u001b[1;32m   <a href='file:///home/vmstaven/.local/lib/python3.8/site-packages/sklearn/metrics/pairwise.py?line=1726'>1727</a>\u001b[0m     _check_chunk_size(D_chunk, chunk_size)\n\u001b[1;32m   <a href='file:///home/vmstaven/.local/lib/python3.8/site-packages/sklearn/metrics/pairwise.py?line=1727'>1728</a>\u001b[0m \u001b[39myield\u001b[39;00m D_chunk\n",
      "File \u001b[0;32m~/.local/lib/python3.8/site-packages/sklearn/neighbors/_base.py:634\u001b[0m, in \u001b[0;36mKNeighborsMixin._kneighbors_reduce_func\u001b[0;34m(self, dist, start, n_neighbors, return_distance)\u001b[0m\n\u001b[1;32m    <a href='file:///home/vmstaven/.local/lib/python3.8/site-packages/sklearn/neighbors/_base.py?line=606'>607</a>\u001b[0m \u001b[39m\"\"\"Reduce a chunk of distances to the nearest neighbors.\u001b[39;00m\n\u001b[1;32m    <a href='file:///home/vmstaven/.local/lib/python3.8/site-packages/sklearn/neighbors/_base.py?line=607'>608</a>\u001b[0m \n\u001b[1;32m    <a href='file:///home/vmstaven/.local/lib/python3.8/site-packages/sklearn/neighbors/_base.py?line=608'>609</a>\u001b[0m \u001b[39mCallback to :func:`sklearn.metrics.pairwise.pairwise_distances_chunked`\u001b[39;00m\n\u001b[0;32m   (...)\u001b[0m\n\u001b[1;32m    <a href='file:///home/vmstaven/.local/lib/python3.8/site-packages/sklearn/neighbors/_base.py?line=630'>631</a>\u001b[0m \u001b[39m    The neighbors indices.\u001b[39;00m\n\u001b[1;32m    <a href='file:///home/vmstaven/.local/lib/python3.8/site-packages/sklearn/neighbors/_base.py?line=631'>632</a>\u001b[0m \u001b[39m\"\"\"\u001b[39;00m\n\u001b[1;32m    <a href='file:///home/vmstaven/.local/lib/python3.8/site-packages/sklearn/neighbors/_base.py?line=632'>633</a>\u001b[0m sample_range \u001b[39m=\u001b[39m np\u001b[39m.\u001b[39marange(dist\u001b[39m.\u001b[39mshape[\u001b[39m0\u001b[39m])[:, \u001b[39mNone\u001b[39;00m]\n\u001b[0;32m--> <a href='file:///home/vmstaven/.local/lib/python3.8/site-packages/sklearn/neighbors/_base.py?line=633'>634</a>\u001b[0m neigh_ind \u001b[39m=\u001b[39m np\u001b[39m.\u001b[39;49margpartition(dist, n_neighbors \u001b[39m-\u001b[39;49m \u001b[39m1\u001b[39;49m, axis\u001b[39m=\u001b[39;49m\u001b[39m1\u001b[39;49m)\n\u001b[1;32m    <a href='file:///home/vmstaven/.local/lib/python3.8/site-packages/sklearn/neighbors/_base.py?line=634'>635</a>\u001b[0m neigh_ind \u001b[39m=\u001b[39m neigh_ind[:, :n_neighbors]\n\u001b[1;32m    <a href='file:///home/vmstaven/.local/lib/python3.8/site-packages/sklearn/neighbors/_base.py?line=635'>636</a>\u001b[0m \u001b[39m# argpartition doesn't guarantee sorted order, so we sort again\u001b[39;00m\n",
      "File \u001b[0;32m<__array_function__ internals>:180\u001b[0m, in \u001b[0;36margpartition\u001b[0;34m(*args, **kwargs)\u001b[0m\n",
      "File \u001b[0;32m~/.local/lib/python3.8/site-packages/numpy/core/fromnumeric.py:845\u001b[0m, in \u001b[0;36margpartition\u001b[0;34m(a, kth, axis, kind, order)\u001b[0m\n\u001b[1;32m    <a href='file:///home/vmstaven/.local/lib/python3.8/site-packages/numpy/core/fromnumeric.py?line=765'>766</a>\u001b[0m \u001b[39m@array_function_dispatch\u001b[39m(_argpartition_dispatcher)\n\u001b[1;32m    <a href='file:///home/vmstaven/.local/lib/python3.8/site-packages/numpy/core/fromnumeric.py?line=766'>767</a>\u001b[0m \u001b[39mdef\u001b[39;00m \u001b[39margpartition\u001b[39m(a, kth, axis\u001b[39m=\u001b[39m\u001b[39m-\u001b[39m\u001b[39m1\u001b[39m, kind\u001b[39m=\u001b[39m\u001b[39m'\u001b[39m\u001b[39mintroselect\u001b[39m\u001b[39m'\u001b[39m, order\u001b[39m=\u001b[39m\u001b[39mNone\u001b[39;00m):\n\u001b[1;32m    <a href='file:///home/vmstaven/.local/lib/python3.8/site-packages/numpy/core/fromnumeric.py?line=767'>768</a>\u001b[0m     \u001b[39m\"\"\"\u001b[39;00m\n\u001b[1;32m    <a href='file:///home/vmstaven/.local/lib/python3.8/site-packages/numpy/core/fromnumeric.py?line=768'>769</a>\u001b[0m \u001b[39m    Perform an indirect partition along the given axis using the\u001b[39;00m\n\u001b[1;32m    <a href='file:///home/vmstaven/.local/lib/python3.8/site-packages/numpy/core/fromnumeric.py?line=769'>770</a>\u001b[0m \u001b[39m    algorithm specified by the `kind` keyword. It returns an array of\u001b[39;00m\n\u001b[0;32m   (...)\u001b[0m\n\u001b[1;32m    <a href='file:///home/vmstaven/.local/lib/python3.8/site-packages/numpy/core/fromnumeric.py?line=842'>843</a>\u001b[0m \n\u001b[1;32m    <a href='file:///home/vmstaven/.local/lib/python3.8/site-packages/numpy/core/fromnumeric.py?line=843'>844</a>\u001b[0m \u001b[39m    \"\"\"\u001b[39;00m\n\u001b[0;32m--> <a href='file:///home/vmstaven/.local/lib/python3.8/site-packages/numpy/core/fromnumeric.py?line=844'>845</a>\u001b[0m     \u001b[39mreturn\u001b[39;00m _wrapfunc(a, \u001b[39m'\u001b[39;49m\u001b[39margpartition\u001b[39;49m\u001b[39m'\u001b[39;49m, kth, axis\u001b[39m=\u001b[39;49maxis, kind\u001b[39m=\u001b[39;49mkind, order\u001b[39m=\u001b[39;49morder)\n",
      "File \u001b[0;32m~/.local/lib/python3.8/site-packages/numpy/core/fromnumeric.py:57\u001b[0m, in \u001b[0;36m_wrapfunc\u001b[0;34m(obj, method, *args, **kwds)\u001b[0m\n\u001b[1;32m     <a href='file:///home/vmstaven/.local/lib/python3.8/site-packages/numpy/core/fromnumeric.py?line=53'>54</a>\u001b[0m     \u001b[39mreturn\u001b[39;00m _wrapit(obj, method, \u001b[39m*\u001b[39margs, \u001b[39m*\u001b[39m\u001b[39m*\u001b[39mkwds)\n\u001b[1;32m     <a href='file:///home/vmstaven/.local/lib/python3.8/site-packages/numpy/core/fromnumeric.py?line=55'>56</a>\u001b[0m \u001b[39mtry\u001b[39;00m:\n\u001b[0;32m---> <a href='file:///home/vmstaven/.local/lib/python3.8/site-packages/numpy/core/fromnumeric.py?line=56'>57</a>\u001b[0m     \u001b[39mreturn\u001b[39;00m bound(\u001b[39m*\u001b[39;49margs, \u001b[39m*\u001b[39;49m\u001b[39m*\u001b[39;49mkwds)\n\u001b[1;32m     <a href='file:///home/vmstaven/.local/lib/python3.8/site-packages/numpy/core/fromnumeric.py?line=57'>58</a>\u001b[0m \u001b[39mexcept\u001b[39;00m \u001b[39mTypeError\u001b[39;00m:\n\u001b[1;32m     <a href='file:///home/vmstaven/.local/lib/python3.8/site-packages/numpy/core/fromnumeric.py?line=58'>59</a>\u001b[0m     \u001b[39m# A TypeError occurs if the object does have such a method in its\u001b[39;00m\n\u001b[1;32m     <a href='file:///home/vmstaven/.local/lib/python3.8/site-packages/numpy/core/fromnumeric.py?line=59'>60</a>\u001b[0m     \u001b[39m# class, but its signature is not identical to that of NumPy's. This\u001b[39;00m\n\u001b[0;32m   (...)\u001b[0m\n\u001b[1;32m     <a href='file:///home/vmstaven/.local/lib/python3.8/site-packages/numpy/core/fromnumeric.py?line=63'>64</a>\u001b[0m     \u001b[39m# Call _wrapit from within the except clause to ensure a potential\u001b[39;00m\n\u001b[1;32m     <a href='file:///home/vmstaven/.local/lib/python3.8/site-packages/numpy/core/fromnumeric.py?line=64'>65</a>\u001b[0m     \u001b[39m# exception has a traceback chain.\u001b[39;00m\n\u001b[1;32m     <a href='file:///home/vmstaven/.local/lib/python3.8/site-packages/numpy/core/fromnumeric.py?line=65'>66</a>\u001b[0m     \u001b[39mreturn\u001b[39;00m _wrapit(obj, method, \u001b[39m*\u001b[39margs, \u001b[39m*\u001b[39m\u001b[39m*\u001b[39mkwds)\n",
      "\u001b[0;31mKeyboardInterrupt\u001b[0m: "
     ]
    }
   ],
   "source": [
    "precision = np.zeros((13,13))\n",
    "for k in range(1,13 + 1):\n",
    "    print(\"k = \", k)\n",
    "    knn = neighbors.KNeighborsClassifier(k)\n",
    "    knn.fit(d_train,l_train)\n",
    "    neigh_dist, neigh_ind = knn.kneighbors(d_test)\n",
    "    neighbor_labels = l_train[neigh_ind]\n",
    "\n",
    "\n",
    "    for l in range(1,k + 1):\n",
    "        print(\"\\tl = \",l)\n",
    "        predicted_labels = []\n",
    "        for i in range(0,len(neighbor_labels)):\n",
    "            # print(\"\\t\\ti = \",i)\n",
    "            \n",
    "            most_frequent_element_index = np.bincount(neighbor_labels[i]).argmax()\n",
    "            # print(most_frequent_element_index)\n",
    "\n",
    "            dpi_label = 0\n",
    "            if ((neighbor_labels[i] == most_frequent_element_index).sum() >= l):\n",
    "                dpi_label = most_frequent_element\n",
    "            else:\n",
    "                dpi_label = None\n",
    "            predicted_labels.append(dpi_label)\n",
    "        \n",
    "        None_indx = [i for i in range(len(predicted_labels)) if predicted_labels[i] == None]\n",
    "        a = np.delete(predicted_labels,None_indx)\n",
    "        b = np.delete(l_test,None_indx)\n",
    "        np.set_printoptions(threshold=sys.maxsize)\n",
    "\n",
    "        # file = open(\"None_indx.txt\", \"w+\")\n",
    "        # file.write(str(None_indx))\n",
    "        # file.close()\n",
    "\n",
    "        # file = open(\"predicted_labels.txt\", \"w+\")\n",
    "        # file.write(str(predicted_labels))\n",
    "        # file.close()\n",
    "\n",
    "        # file = open(\"a.txt\", \"w+\")\n",
    "        # file.write(str(a))\n",
    "        # file.close()\n",
    "\n",
    "        # file = open(\"b.txt\", \"w+\")\n",
    "        # file.write(str(b))\n",
    "        # file.close()\n",
    "\n",
    "        c = a - b\n",
    "        precision[k-1][l-1] = ( (len(a) - np.count_nonzero(a - b))/len(a) )\n",
    "        \n",
    "\n",
    "file = open(\"precision.txt\", \"w+\")\n",
    "file.write(str(precision))\n",
    "file.close()\n",
    "\n"
   ]
  },
  {
   "cell_type": "markdown",
   "metadata": {},
   "source": [
    "### 3.3.2 Plot the maximum F1 values for each of the k in a plot together. With F1 score on the y- axis and “k”-value on the x-axis."
   ]
  },
  {
   "cell_type": "code",
   "execution_count": null,
   "metadata": {},
   "outputs": [],
   "source": []
  },
  {
   "cell_type": "markdown",
   "metadata": {},
   "source": [
    "### 3.3.3 Discuss the results from 3.3.1 and 3.3.2. What do you think would be the most important part of a digit recognition system. Precision or recall? Please discuss in what situations would the different factors be more important?"
   ]
  }
 ],
 "metadata": {
  "interpreter": {
   "hash": "f9f85f796d01129d0dd105a088854619f454435301f6ffec2fea96ecbd9be4ac"
  },
  "kernelspec": {
   "display_name": "Python 3.9.10 64-bit",
   "language": "python",
   "name": "python3"
  },
  "language_info": {
   "codemirror_mode": {
    "name": "ipython",
    "version": 3
   },
   "file_extension": ".py",
   "mimetype": "text/x-python",
   "name": "python",
   "nbconvert_exporter": "python",
   "pygments_lexer": "ipython3",
   "version": "3.8.10"
  },
  "orig_nbformat": 4
 },
 "nbformat": 4,
 "nbformat_minor": 2
}
