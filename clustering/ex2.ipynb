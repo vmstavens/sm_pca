{
 "cells": [
  {
   "cell_type": "markdown",
   "metadata": {},
   "source": [
    "# 3.2: Hierarchical clustering\n",
    "\n",
    "### 3.2.1 Show a low level dendrogram containing 5 instances of each digit ( one person ).\n"
   ]
  },
  {
   "cell_type": "markdown",
   "metadata": {},
   "source": [
    "## LINKS \n",
    "https://scikit-learn.org/stable/modules/generated/sklearn.cluster.AgglomerativeClustering.html?highlight=agglomerative%20clustering#sklearn.cluster.AgglomerativeClustering"
   ]
  },
  {
   "cell_type": "code",
   "execution_count": 139,
   "metadata": {},
   "outputs": [],
   "source": [
    "import numpy as np\n",
    "import matplotlib.pyplot as plt\n",
    "from sklearn.cluster import AgglomerativeClustering\n",
    "import pandas as pd\n",
    "from typing import List\n",
    "import sys\n",
    "from scipy.cluster.hierarchy import dendrogram\n",
    "\n",
    "sys.path.insert(0, '/home/agervig/git/sm_pca')\n",
    "\n",
    "from utils import data_utils\n"
   ]
  },
  {
   "cell_type": "code",
   "execution_count": 140,
   "metadata": {},
   "outputs": [],
   "source": [
    "data_csv = pd.read_csv(\"../data_proc.csv\", header=None)\n",
    "data = pd.DataFrame.to_numpy(data_csv)\n",
    "data = np.delete(data, 0, 1)\n",
    "np.random.shuffle(data)\n",
    "\n",
    "\n",
    "#X_train, Y_train, X_test, Y_test = data_utils.split_data_all(data, 0.8)"
   ]
  },
  {
   "cell_type": "code",
   "execution_count": 142,
   "metadata": {},
   "outputs": [],
   "source": [
    "def get_data_student_cifers(data: np.array, student_id: int, cifers: List, instances: int):\n",
    "    \"\"\"\n",
    "    data: np.ndarray -> image data incl. studnet id (col 0) and labels (col 1)\n",
    "    student_id: int -> the student id of the student you want the data from \n",
    "    cifers: List -> A list of the cifers of interrest, to extract from the data of the student. EX: [0,4,7] will give you cifers 0, 4, 7\n",
    "    instances: int -> how many instances of each cifer to return \n",
    "    \"\"\"\n",
    "\n",
    "    data_cifers = []\n",
    "    data_student = data[data[:,0] == student_id]\n",
    "    for c in cifers:\n",
    "        data_cifers.extend(data_student[data_student[:,1] == c][0:instances])\n",
    "    data_cifers = np.array(data_cifers)\n",
    "    return data_cifers"
   ]
  },
  {
   "cell_type": "code",
   "execution_count": 195,
   "metadata": {},
   "outputs": [],
   "source": [
    "def plot_dendrogram(model, thresh):\n",
    "    # Create linkage matrix and then plot the dendrogram\n",
    "\n",
    "    # create the counts of samples under each node\n",
    "    counts = np.zeros(model.children_.shape[0])\n",
    "    n_samples = len(model.labels_)\n",
    "    for i, merge in enumerate(model.children_):\n",
    "        current_count = 0\n",
    "        for child_idx in merge:\n",
    "            if child_idx < n_samples:\n",
    "                current_count += 1  # leaf node\n",
    "            else:\n",
    "                current_count += counts[child_idx - n_samples]\n",
    "        counts[i] = current_count\n",
    "    for dis in model.distances_:\n",
    "        if dis > model.distance_threshold:\n",
    "            linkage_matrix = np.column_stack(\n",
    "                [model.children_, model.distances_, counts]\n",
    "            ).astype(float)\n",
    "    # Plot the corresponding dendrogram\n",
    "    dendrogram(linkage_matrix, **kwargs)"
   ]
  },
  {
   "cell_type": "code",
   "execution_count": 196,
   "metadata": {},
   "outputs": [
    {
     "ename": "UnboundLocalError",
     "evalue": "local variable 'linkage_matrix' referenced before assignment",
     "output_type": "error",
     "traceback": [
      "\u001b[0;31m---------------------------------------------------------------------------\u001b[0m",
      "\u001b[0;31mUnboundLocalError\u001b[0m                         Traceback (most recent call last)",
      "\u001b[1;32m/home/agervig/git/sm_pca/clustering/ex2.ipynb Cell 7'\u001b[0m in \u001b[0;36m<module>\u001b[0;34m\u001b[0m\n\u001b[1;32m      <a href='vscode-notebook-cell:/home/agervig/git/sm_pca/clustering/ex2.ipynb#ch0000004?line=5'>6</a>\u001b[0m model \u001b[39m=\u001b[39m ward\u001b[39m.\u001b[39mfit(data_student)\n\u001b[1;32m      <a href='vscode-notebook-cell:/home/agervig/git/sm_pca/clustering/ex2.ipynb#ch0000004?line=6'>7</a>\u001b[0m \u001b[39m#print(model.distances_)\u001b[39;00m\n\u001b[0;32m----> <a href='vscode-notebook-cell:/home/agervig/git/sm_pca/clustering/ex2.ipynb#ch0000004?line=7'>8</a>\u001b[0m plot_dendrogram(model, \u001b[39m3000\u001b[39;49m)\n",
      "\u001b[1;32m/home/agervig/git/sm_pca/clustering/ex2.ipynb Cell 6'\u001b[0m in \u001b[0;36mplot_dendrogram\u001b[0;34m(model, thresh)\u001b[0m\n\u001b[1;32m     <a href='vscode-notebook-cell:/home/agervig/git/sm_pca/clustering/ex2.ipynb#ch0000011?line=16'>17</a>\u001b[0m         linkage_matrix \u001b[39m=\u001b[39m np\u001b[39m.\u001b[39mcolumn_stack(\n\u001b[1;32m     <a href='vscode-notebook-cell:/home/agervig/git/sm_pca/clustering/ex2.ipynb#ch0000011?line=17'>18</a>\u001b[0m             [model\u001b[39m.\u001b[39mchildren_, model\u001b[39m.\u001b[39mdistances_, counts]\n\u001b[1;32m     <a href='vscode-notebook-cell:/home/agervig/git/sm_pca/clustering/ex2.ipynb#ch0000011?line=18'>19</a>\u001b[0m         )\u001b[39m.\u001b[39mastype(\u001b[39mfloat\u001b[39m)\n\u001b[1;32m     <a href='vscode-notebook-cell:/home/agervig/git/sm_pca/clustering/ex2.ipynb#ch0000011?line=19'>20</a>\u001b[0m \u001b[39m# Plot the corresponding dendrogram\u001b[39;00m\n\u001b[0;32m---> <a href='vscode-notebook-cell:/home/agervig/git/sm_pca/clustering/ex2.ipynb#ch0000011?line=20'>21</a>\u001b[0m dendrogram(linkage_matrix, \u001b[39m*\u001b[39m\u001b[39m*\u001b[39mkwargs)\n",
      "\u001b[0;31mUnboundLocalError\u001b[0m: local variable 'linkage_matrix' referenced before assignment"
     ]
    }
   ],
   "source": [
    "#Extracting data for one random student from the dataset\n",
    "data_student = get_data_student_cifers(data, 1, [0,1,2,3,4,5,6,7,8,9], 5)\n",
    "\n",
    "#creating dendogram for student data with 5 instanses of each cifer \n",
    "ward = AgglomerativeClustering(distance_threshold=50000, n_clusters=None, linkage='ward', compute_distances=True, compute_full_tree=True )\n",
    "model = ward.fit(data_student)\n",
    "#print(model.distances_)\n",
    "plot_dendrogram(model, 3000)\n"
   ]
  },
  {
   "cell_type": "code",
   "execution_count": null,
   "metadata": {},
   "outputs": [],
   "source": []
  },
  {
   "cell_type": "markdown",
   "metadata": {},
   "source": [
    "### 3.2.2 Use K-Means clustering to compress each digit into 5 clusters, as done in 3.1.1, and perform hierarchical clustering to show a low level dendrogram of this (one person).\n"
   ]
  },
  {
   "cell_type": "markdown",
   "metadata": {},
   "source": [
    "### 3.2.3 Discuss the results and relate them to the cross validation tables from k-NN classification"
   ]
  },
  {
   "cell_type": "code",
   "execution_count": null,
   "metadata": {},
   "outputs": [],
   "source": [
    "#lool at confusion matrix of cross val and compare to hierarchical clustering"
   ]
  }
 ],
 "metadata": {
  "interpreter": {
   "hash": "916dbcbb3f70747c44a77c7bcd40155683ae19c65e1c03b4aa3499c5328201f1"
  },
  "kernelspec": {
   "display_name": "Python 3.8.10 64-bit",
   "language": "python",
   "name": "python3"
  },
  "language_info": {
   "codemirror_mode": {
    "name": "ipython",
    "version": 3
   },
   "file_extension": ".py",
   "mimetype": "text/x-python",
   "name": "python",
   "nbconvert_exporter": "python",
   "pygments_lexer": "ipython3",
   "version": "3.8.10"
  },
  "orig_nbformat": 4
 },
 "nbformat": 4,
 "nbformat_minor": 2
}
