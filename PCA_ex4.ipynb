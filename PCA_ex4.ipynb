{
 "cells": [
  {
   "cell_type": "markdown",
   "metadata": {},
   "source": [
    "# 2.4"
   ]
  },
  {
   "cell_type": "code",
   "execution_count": null,
   "metadata": {},
   "outputs": [],
   "source": [
    "from operator import sub\n",
    "import pandas as pd\n",
    "import numpy as np\n",
    "import PCA_utils\n",
    "from sklearn.decomposition import PCA\n",
    "import matplotlib.pyplot as plt\n",
    "from math import sqrt\n",
    "NUM_OF_DP_2_VIS = 9"
   ]
  },
  {
   "cell_type": "code",
   "execution_count": null,
   "metadata": {},
   "outputs": [],
   "source": [
    "\n",
    "\n",
    "data_csv = pd.read_csv(\"data_proc.csv\", header=None)\n",
    "data = pd.DataFrame.to_numpy(data_csv)\n",
    "data = np.delete(data, 0, 1)\n"
   ]
  },
  {
   "cell_type": "markdown",
   "metadata": {},
   "source": [
    "### 1. This task is about reconstructing data using PCA. First select some images from the dataset and plot them."
   ]
  },
  {
   "cell_type": "code",
   "execution_count": null,
   "metadata": {},
   "outputs": [],
   "source": [
    "\n",
    "random_indices = np.random.choice(data.shape[0], size=NUM_OF_DP_2_VIS, replace=False)\n",
    "random_images = data[random_indices, :]\n",
    "PCA_utils.visualize_images(random_images, sqrt(NUM_OF_DP_2_VIS), sqrt(NUM_OF_DP_2_VIS), \"Original data\")\n"
   ]
  },
  {
   "cell_type": "markdown",
   "metadata": {},
   "source": [
    "### 2. Plot the first 10 eigenvectors/loadingvectors as images. Can you describe what you see?"
   ]
  },
  {
   "cell_type": "code",
   "execution_count": null,
   "metadata": {},
   "outputs": [],
   "source": [
    "pca_decomp = PCA()\n",
    "pca_decomp.fit(data)\n",
    "\n",
    "pcas = pca_decomp.components_[:NUM_OF_DP_2_VIS, :]\n",
    "sub_titles = []\n",
    "for i in range(1, NUM_OF_DP_2_VIS + 1):\n",
    "    sub_titles.append(\"pca \" + str(i))\n",
    "\n",
    "# print 9 pcas\n",
    "PCA_utils.visualize_generic(pcas, sqrt(NUM_OF_DP_2_VIS), sqrt(NUM_OF_DP_2_VIS), \"PCAs\", sub_titles)\n",
    "# print the 10'th pca\n",
    "PCA_utils.visualize_generic(pca_decomp.components_[9], 1,1, \"PCAs\", \"pca 10\")\n",
    "\n",
    "# description: shits cool yo\n"
   ]
  },
  {
   "cell_type": "markdown",
   "metadata": {},
   "source": [
    "### 3. Plot a reconstruction of the images you displayed in 2.4.1 using all PC’s. This can be done by multiplying the loadings with the scores and adding the removed centering."
   ]
  },
  {
   "cell_type": "code",
   "execution_count": null,
   "metadata": {},
   "outputs": [],
   "source": [
    "\n",
    "# source: https://stats.stackexchange.com/questions/229092/how-to-reverse-pca-and-reconstruct-original-variables-from-several-principal-com\n",
    "# loadings = the elements of eigen vectors\n",
    "# scores = data * PCA\n",
    "\n",
    "scores = np.dot(data, pca_decomp.components_).T\n",
    "loadings = pca_decomp.components_\n",
    "\n",
    "recon = np.dot(loadings,scores).T\n",
    "\n",
    "sub_titles = []\n",
    "for i in range(1, NUM_OF_DP_2_VIS + 1):\n",
    "    sub_titles.append(\"recon \" + str(i))\n",
    "\n",
    "print(\"[SHAPES]: data = \",data.shape, \" | PCAs = \", pca_decomp.components_.shape, \"loadings = \",loadings.shape, \" | scores = \", scores.shape,\"recon = \", recon.shape)\n",
    "PCA_utils.visualize_generic(recon[:NUM_OF_DP_2_VIS], sqrt(NUM_OF_DP_2_VIS), sqrt(NUM_OF_DP_2_VIS), \"Recon\", sub_titles)\n"
   ]
  },
  {
   "cell_type": "markdown",
   "metadata": {},
   "source": [
    "### 4. Now re-recreate using 80 % of variance, 90 % and 95 % . Can you describe what you see? How much have you reduced the data size?"
   ]
  },
  {
   "cell_type": "code",
   "execution_count": null,
   "metadata": {},
   "outputs": [],
   "source": []
  }
 ],
 "metadata": {
  "interpreter": {
   "hash": "916dbcbb3f70747c44a77c7bcd40155683ae19c65e1c03b4aa3499c5328201f1"
  },
  "kernelspec": {
   "display_name": "Python 3.8.10 64-bit",
   "language": "python",
   "name": "python3"
  },
  "language_info": {
   "codemirror_mode": {
    "name": "ipython",
    "version": 3
   },
   "file_extension": ".py",
   "mimetype": "text/x-python",
   "name": "python",
   "nbconvert_exporter": "python",
   "pygments_lexer": "ipython3",
   "version": "3.8.10"
  },
  "orig_nbformat": 4
 },
 "nbformat": 4,
 "nbformat_minor": 2
}
