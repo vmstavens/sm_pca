{
 "cells": [
  {
   "cell_type": "markdown",
   "metadata": {},
   "source": [
    "# 2.4"
   ]
  },
  {
   "cell_type": "code",
   "execution_count": null,
   "metadata": {},
   "outputs": [],
   "source": [
    "from operator import sub\n",
    "import pandas as pd\n",
    "import numpy as np\n",
    "import PCA_utils\n",
    "from sklearn.decomposition import PCA\n",
    "import matplotlib.pyplot as plt\n",
    "from math import sqrt\n",
    "NUM_OF_DP_2_VIS = 9"
   ]
  },
  {
   "cell_type": "code",
   "execution_count": null,
   "metadata": {},
   "outputs": [],
   "source": [
    "data_csv = pd.read_csv(\"data_proc.csv\", header=None)\n",
    "data = pd.DataFrame.to_numpy(data_csv)\n",
    "data = np.delete(data, 0, 1)\n",
    "data_raw = np.delete(data,np.s_[0:2],axis=1)"
   ]
  },
  {
   "cell_type": "markdown",
   "metadata": {},
   "source": [
    "### 1. This task is about reconstructing data using PCA. First select some images from the dataset and plot them."
   ]
  },
  {
   "cell_type": "code",
   "execution_count": null,
   "metadata": {},
   "outputs": [],
   "source": [
    "\n",
    "random_indices = np.random.choice(data.shape[0], size=NUM_OF_DP_2_VIS, replace=False)\n",
    "random_images = data[random_indices, :]\n",
    "PCA_utils.visualize_images(random_images, sqrt(NUM_OF_DP_2_VIS), sqrt(NUM_OF_DP_2_VIS), \"Original data\")\n"
   ]
  },
  {
   "cell_type": "markdown",
   "metadata": {},
   "source": [
    "### 2. Plot the first 10 eigenvectors/loadingvectors as images. Can you describe what you see?"
   ]
  },
  {
   "cell_type": "code",
   "execution_count": null,
   "metadata": {},
   "outputs": [],
   "source": [
    "pca_decomp = PCA()\n",
    "pca_decomp.fit(data_raw)\n",
    "\n",
    "pcas = pca_decomp.components_[:NUM_OF_DP_2_VIS, :]\n",
    "sub_titles = []\n",
    "for i in range(1, NUM_OF_DP_2_VIS + 1):\n",
    "    sub_titles.append(\"pca \" + str(i))\n",
    "\n",
    "# print 9 pcas\n",
    "PCA_utils.visualize_generic(pcas, int(sqrt(NUM_OF_DP_2_VIS)), int(sqrt(NUM_OF_DP_2_VIS)), \"PCAs\", sub_titles)\n",
    "# print the 10'th pca\n",
    "PCA_utils.visualize_generic(pca_decomp.components_[9], 1,1, \"PCAs\", \"pca 10\")\n",
    "\n",
    "# description: shit's cool yo\n",
    "\n"
   ]
  },
  {
   "cell_type": "markdown",
   "metadata": {},
   "source": [
    "### 3. Plot a reconstruction of the images you displayed in 2.4.1 using all PC’s. This can be done by multiplying the loadings with the scores and adding the removed centering."
   ]
  },
  {
   "cell_type": "code",
   "execution_count": null,
   "metadata": {},
   "outputs": [],
   "source": [
    "\n",
    "# source: https://stats.stackexchange.com/questions/229092/how-to-reverse-pca-and-reconstruct-original-variables-from-several-principal-com\n",
    "# loadings = the elements of eigen vectors\n",
    "# scores = data * PCA\n",
    "\n",
    "scores = np.dot(data_raw, pca_decomp.components_).T\n",
    "loadings = pca_decomp.components_\n",
    "\n",
    "recon = np.dot(loadings,scores).T\n",
    "\n",
    "sub_titles = []\n",
    "for i in range(1, NUM_OF_DP_2_VIS + 1):\n",
    "    sub_titles.append(\"recon \" + str(i))\n",
    "\n",
    "print(\"[SHAPES]: data = \",data_raw.shape, \" | PCAs = \", pca_decomp.components_.shape, \"loadings = \",loadings.shape, \" | scores = \", scores.shape,\"recon = \", recon.shape)\n",
    "PCA_utils.visualize_generic(recon[:NUM_OF_DP_2_VIS], sqrt(NUM_OF_DP_2_VIS), sqrt(NUM_OF_DP_2_VIS), \"Recon\", sub_titles)\n"
   ]
  },
  {
   "cell_type": "markdown",
   "metadata": {},
   "source": [
    "### 4. Now re-recreate using 80 % of variance, 90 % and 95 % . Can you describe what you see? How much have you reduced the data size?"
   ]
  },
  {
   "cell_type": "code",
   "execution_count": null,
   "metadata": {},
   "outputs": [],
   "source": [
    "pca_80 = np.empty((0, len(pca_decomp.components_[0])) ,float).T\n",
    "pca_90 = np.empty((0, len(pca_decomp.components_[0])) ,float).T\n",
    "pca_95 = np.empty((0, len(pca_decomp.components_[0])) ,float).T\n",
    "pca_var_cum = 0\n",
    "for i in range(len(pca_decomp.components_)):\n",
    "    if pca_var_cum < 0.8:\n",
    "        pca_80 = np.append(pca_80, pca_decomp.components_[i][:, np.newaxis],axis=1)\n",
    "        pca_90 = np.append(pca_90, pca_decomp.components_[i][:, np.newaxis],axis=1)\n",
    "        pca_95 = np.append(pca_95, pca_decomp.components_[i][:, np.newaxis],axis=1)\n",
    "        \n",
    "        pca_var_cum += pca_decomp.explained_variance_ratio_[i]\n",
    "        \n",
    "    elif pca_var_cum < 0.9:\n",
    "        pca_90 = np.append(pca_90,pca_decomp.components_[i][:,np.newaxis],axis=1)\n",
    "        pca_95 = np.append(pca_95,pca_decomp.components_[i][:,np.newaxis],axis=1)\n",
    "        pca_var_cum += pca_decomp.explained_variance_ratio_[i]\n",
    "    else:\n",
    "        pca_95 = np.append(pca_95, pca_decomp.components_[i][:,np.newaxis],axis=1)\n",
    "        pca_var_cum += pca_decomp.explained_variance_ratio_[i]    \n",
    "\n",
    "print(\"[SHAPES]: pca 80% = \", pca_80.shape, \"pca 90% = \", pca_90.shape, \"pca 95% = \", pca_95.shape)\n",
    "\n",
    "\n",
    "# just repeat the reconstruction procedure from the previous assignmen.\n",
    "\n",
    "scores_80 = np.dot(data_raw, pca_80).T\n",
    "scores_90 = np.dot(data_raw, pca_90).T\n",
    "scores_95 = np.dot(data_raw, pca_95).T\n",
    "\n",
    "loadings_80 = pca_80\n",
    "loadings_90 = pca_90\n",
    "loadings_95 = pca_95\n",
    "\n",
    "recon_80 = np.dot(loadings_80, scores_80).T\n",
    "recon_90 = np.dot(loadings_90, scores_90).T\n",
    "recon_95 = np.dot(loadings_95, scores_95).T\n",
    "\n",
    "sub_titles = []\n",
    "for i in range(1, NUM_OF_DP_2_VIS + 1):\n",
    "    sub_titles.append(\"recon \" + str(i))\n",
    "\n",
    "\n",
    "\n",
    "print(\"[SHAPES 80%]: data = \", data_raw.shape, \" | PCAs = \", pca_80.shape,\"loadings = \", loadings_80.shape, \" | scores = \", scores_80.shape, \"recon = \", recon_80.shape)\n",
    "print(\"[SHAPES 90%]: data = \", data_raw.shape, \" | PCAs = \", pca_90.shape,\"loadings = \", loadings_90.shape, \" | scores = \", scores_90.shape, \"recon = \", recon_90.shape)\n",
    "print(\"[SHAPES 95%]: data = \", data_raw.shape, \" | PCAs = \", pca_95.shape,\"loadings = \", loadings_95.shape, \" | scores = \", scores_95.shape, \"recon = \", recon_95.shape)\n",
    "\n",
    "PCA_utils.visualize_generic(recon_80[:NUM_OF_DP_2_VIS], sqrt(NUM_OF_DP_2_VIS), sqrt(NUM_OF_DP_2_VIS), \"Recon 80%\", sub_titles)\n",
    "PCA_utils.visualize_generic(recon_90[:NUM_OF_DP_2_VIS], sqrt(NUM_OF_DP_2_VIS), sqrt(NUM_OF_DP_2_VIS), \"Recon 90%\", sub_titles)\n",
    "PCA_utils.visualize_generic(recon_95[:NUM_OF_DP_2_VIS], sqrt(NUM_OF_DP_2_VIS), sqrt(NUM_OF_DP_2_VIS), \"Recon 95%\", sub_titles)\n",
    "\n",
    "\n",
    "# how much have re reduced the data size -> ? 531 -> 59 for 80%?\n"
   ]
  },
  {
   "cell_type": "markdown",
   "metadata": {},
   "source": [
    "### 5. The last exercise is to compare the outcomes between two different ciphers. For instance, two different ciphers, (e.g. datapoints that represent a ’0’ and a ’1’), compare the 10 first scores and see if you can spot a difference. Try also to calculate the mean for all instances of these ciphers and compare the first 10 scores. Can you spot a pattern when comparing with the loadings."
   ]
  },
  {
   "cell_type": "code",
   "execution_count": 43,
   "metadata": {},
   "outputs": [
    {
     "data": {
      "image/png": "[encoded data removed]",
      "text/plain": [
       "<Figure size 432x288 with 1 Axes>"
      ]
     },
     "metadata": {
      "needs_background": "light"
     },
     "output_type": "display_data"
    }
   ],
   "source": [
    "# ciphers chosen 0 and 1\n",
    "\n",
    "# filter_array = data[1] == 0\n",
    "# newarr = data[filter_array]\n",
    "\n",
    "# source: https://stackoverflow.com/questions/38910258/python-numpy-filter-two-dimensional-array-by-condition\n",
    "\n",
    "data_cipher_0 = np.delete( data[np.in1d(data[:, 1], np.asarray([0]))], np.s_[0:2],axis=1 ) # raw data from cipher 0\n",
    "data_cipher_1 = np.delete( data[np.in1d(data[:, 1], np.asarray([1]))], np.s_[0:2],axis=1 ) # raw data from cipher 1\n",
    "\n",
    "data_cipher_0_one = np.delete( data[np.in1d(data[:, 1], np.asarray([0]))], np.s_[0:2],axis=1 )[0] # one instance\n",
    "data_cipher_1_one = np.delete( data[np.in1d(data[:, 1], np.asarray([1]))], np.s_[0:2],axis=1 )[0] # one instance\n",
    "\n",
    "data_lim = data_cipher_0[0] if data_cipher_0.shape[0] < data_cipher_1.shape[0] else data_cipher_1.shape[0]\n",
    "\n",
    "# ensure equal lengths\n",
    "data_cipher_0 = data_cipher_0[:data_lim]\n",
    "data_cipher_1 = data_cipher_1[:data_lim]\n",
    "\n",
    "# a) compare the 10 first scores and see if you can spot a difference\n",
    "\n",
    "# score = (data * PCA)^T\n",
    "score_0_one = np.dot(data_cipher_0_one, pca_decomp.components_).T\n",
    "score_1_one = np.dot(data_cipher_1_one, pca_decomp.components_).T\n",
    "\n",
    "d_score_one = score_0_one - score_1_one\n",
    "\n",
    "plt.plot(d_score_one[0:10])\n",
    "plt.show()\n",
    "\n",
    "# b) Try also to calculate the mean (score?) for all instances of these ciphers\n",
    "score_0 = np.dot(data_cipher_0, pca_decomp.components_).T\n",
    "score_1 = np.dot(data_cipher_1, pca_decomp.components_).T\n",
    "\n",
    "mean_score_0 = np.mean(score_0, axis=0)\n",
    "mean_score_1 = np.mean(score_1, axis=0)\n",
    "\n",
    "# c) and compare the first 10 scores\n",
    "\n",
    "\n",
    "# d) can you spot a pattern when comparing with the loadings\n",
    "\n"
   ]
  }
 ],
 "metadata": {
  "interpreter": {
   "hash": "916dbcbb3f70747c44a77c7bcd40155683ae19c65e1c03b4aa3499c5328201f1"
  },
  "kernelspec": {
   "display_name": "Python 3.8.10 64-bit",
   "language": "python",
   "name": "python3"
  },
  "language_info": {
   "codemirror_mode": {
    "name": "ipython",
    "version": 3
   },
   "file_extension": ".py",
   "mimetype": "text/x-python",
   "name": "python",
   "nbconvert_exporter": "python",
   "pygments_lexer": "ipython3",
   "version": "3.8.10"
  },
  "orig_nbformat": 4
 },
 "nbformat": 4,
 "nbformat_minor": 2
}
